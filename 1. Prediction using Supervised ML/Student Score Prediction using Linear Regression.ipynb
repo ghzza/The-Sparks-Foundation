{
 "cells": [
  {
   "cell_type": "markdown",
   "id": "1a7f386f",
   "metadata": {},
   "source": [
    "# The Sparks Foundation\n",
    "# Data Science and Business Analytics Intern Task\n",
    "\n",
    "## By Ghazali Akmal Rabbani\n",
    "## Task 1"
   ]
  },
  {
   "cell_type": "markdown",
   "id": "bc4a4cd4",
   "metadata": {},
   "source": [
    "# Problem and Purpose"
   ]
  },
  {
   "cell_type": "markdown",
   "id": "d399d2c0",
   "metadata": {},
   "source": [
    "1. Predict the percentage of an student based on the no. of study hours\n",
    "2. This is a simple linear regression task as it involves just 2 variables\n",
    "3. You can use R, Python, SAS Enterprise Miner or any other tool\n",
    "4. Data can be found at http://bit.ly/w-data\n",
    "5. What will be predicted score if a student studies for 9.25 hours/day ?"
   ]
  },
  {
   "cell_type": "markdown",
   "id": "46c0b9d9",
   "metadata": {},
   "source": [
    "# Import Library and Data"
   ]
  },
  {
   "cell_type": "code",
   "execution_count": 1,
   "id": "f5c96b46",
   "metadata": {},
   "outputs": [],
   "source": [
    "import pandas as pd\n",
    "import numpy as np\n",
    "import matplotlib.pyplot as plt\n",
    "import seaborn as sns\n",
    "import scipy"
   ]
  },
  {
   "cell_type": "code",
   "execution_count": 2,
   "id": "1dacc6c6",
   "metadata": {},
   "outputs": [
    {
     "data": {
      "text/html": [
       "<div>\n",
       "<style scoped>\n",
       "    .dataframe tbody tr th:only-of-type {\n",
       "        vertical-align: middle;\n",
       "    }\n",
       "\n",
       "    .dataframe tbody tr th {\n",
       "        vertical-align: top;\n",
       "    }\n",
       "\n",
       "    .dataframe thead th {\n",
       "        text-align: right;\n",
       "    }\n",
       "</style>\n",
       "<table border=\"1\" class=\"dataframe\">\n",
       "  <thead>\n",
       "    <tr style=\"text-align: right;\">\n",
       "      <th></th>\n",
       "      <th>Hours</th>\n",
       "      <th>Scores</th>\n",
       "    </tr>\n",
       "  </thead>\n",
       "  <tbody>\n",
       "    <tr>\n",
       "      <th>0</th>\n",
       "      <td>2.5</td>\n",
       "      <td>21</td>\n",
       "    </tr>\n",
       "    <tr>\n",
       "      <th>1</th>\n",
       "      <td>5.1</td>\n",
       "      <td>47</td>\n",
       "    </tr>\n",
       "    <tr>\n",
       "      <th>2</th>\n",
       "      <td>3.2</td>\n",
       "      <td>27</td>\n",
       "    </tr>\n",
       "    <tr>\n",
       "      <th>3</th>\n",
       "      <td>8.5</td>\n",
       "      <td>75</td>\n",
       "    </tr>\n",
       "    <tr>\n",
       "      <th>4</th>\n",
       "      <td>3.5</td>\n",
       "      <td>30</td>\n",
       "    </tr>\n",
       "    <tr>\n",
       "      <th>5</th>\n",
       "      <td>1.5</td>\n",
       "      <td>20</td>\n",
       "    </tr>\n",
       "    <tr>\n",
       "      <th>6</th>\n",
       "      <td>9.2</td>\n",
       "      <td>88</td>\n",
       "    </tr>\n",
       "    <tr>\n",
       "      <th>7</th>\n",
       "      <td>5.5</td>\n",
       "      <td>60</td>\n",
       "    </tr>\n",
       "    <tr>\n",
       "      <th>8</th>\n",
       "      <td>8.3</td>\n",
       "      <td>81</td>\n",
       "    </tr>\n",
       "    <tr>\n",
       "      <th>9</th>\n",
       "      <td>2.7</td>\n",
       "      <td>25</td>\n",
       "    </tr>\n",
       "    <tr>\n",
       "      <th>10</th>\n",
       "      <td>7.7</td>\n",
       "      <td>85</td>\n",
       "    </tr>\n",
       "    <tr>\n",
       "      <th>11</th>\n",
       "      <td>5.9</td>\n",
       "      <td>62</td>\n",
       "    </tr>\n",
       "    <tr>\n",
       "      <th>12</th>\n",
       "      <td>4.5</td>\n",
       "      <td>41</td>\n",
       "    </tr>\n",
       "    <tr>\n",
       "      <th>13</th>\n",
       "      <td>3.3</td>\n",
       "      <td>42</td>\n",
       "    </tr>\n",
       "    <tr>\n",
       "      <th>14</th>\n",
       "      <td>1.1</td>\n",
       "      <td>17</td>\n",
       "    </tr>\n",
       "    <tr>\n",
       "      <th>15</th>\n",
       "      <td>8.9</td>\n",
       "      <td>95</td>\n",
       "    </tr>\n",
       "    <tr>\n",
       "      <th>16</th>\n",
       "      <td>2.5</td>\n",
       "      <td>30</td>\n",
       "    </tr>\n",
       "    <tr>\n",
       "      <th>17</th>\n",
       "      <td>1.9</td>\n",
       "      <td>24</td>\n",
       "    </tr>\n",
       "    <tr>\n",
       "      <th>18</th>\n",
       "      <td>6.1</td>\n",
       "      <td>67</td>\n",
       "    </tr>\n",
       "    <tr>\n",
       "      <th>19</th>\n",
       "      <td>7.4</td>\n",
       "      <td>69</td>\n",
       "    </tr>\n",
       "    <tr>\n",
       "      <th>20</th>\n",
       "      <td>2.7</td>\n",
       "      <td>30</td>\n",
       "    </tr>\n",
       "    <tr>\n",
       "      <th>21</th>\n",
       "      <td>4.8</td>\n",
       "      <td>54</td>\n",
       "    </tr>\n",
       "    <tr>\n",
       "      <th>22</th>\n",
       "      <td>3.8</td>\n",
       "      <td>35</td>\n",
       "    </tr>\n",
       "    <tr>\n",
       "      <th>23</th>\n",
       "      <td>6.9</td>\n",
       "      <td>76</td>\n",
       "    </tr>\n",
       "    <tr>\n",
       "      <th>24</th>\n",
       "      <td>7.8</td>\n",
       "      <td>86</td>\n",
       "    </tr>\n",
       "  </tbody>\n",
       "</table>\n",
       "</div>"
      ],
      "text/plain": [
       "    Hours  Scores\n",
       "0     2.5      21\n",
       "1     5.1      47\n",
       "2     3.2      27\n",
       "3     8.5      75\n",
       "4     3.5      30\n",
       "5     1.5      20\n",
       "6     9.2      88\n",
       "7     5.5      60\n",
       "8     8.3      81\n",
       "9     2.7      25\n",
       "10    7.7      85\n",
       "11    5.9      62\n",
       "12    4.5      41\n",
       "13    3.3      42\n",
       "14    1.1      17\n",
       "15    8.9      95\n",
       "16    2.5      30\n",
       "17    1.9      24\n",
       "18    6.1      67\n",
       "19    7.4      69\n",
       "20    2.7      30\n",
       "21    4.8      54\n",
       "22    3.8      35\n",
       "23    6.9      76\n",
       "24    7.8      86"
      ]
     },
     "execution_count": 2,
     "metadata": {},
     "output_type": "execute_result"
    }
   ],
   "source": [
    "url = 'http://bit.ly/w-data'\n",
    "df = pd.read_csv(url)\n",
    "df"
   ]
  },
  {
   "cell_type": "code",
   "execution_count": 3,
   "id": "b9418c24",
   "metadata": {},
   "outputs": [
    {
     "data": {
      "text/html": [
       "<div>\n",
       "<style scoped>\n",
       "    .dataframe tbody tr th:only-of-type {\n",
       "        vertical-align: middle;\n",
       "    }\n",
       "\n",
       "    .dataframe tbody tr th {\n",
       "        vertical-align: top;\n",
       "    }\n",
       "\n",
       "    .dataframe thead th {\n",
       "        text-align: right;\n",
       "    }\n",
       "</style>\n",
       "<table border=\"1\" class=\"dataframe\">\n",
       "  <thead>\n",
       "    <tr style=\"text-align: right;\">\n",
       "      <th></th>\n",
       "      <th>Hours</th>\n",
       "      <th>Scores</th>\n",
       "    </tr>\n",
       "  </thead>\n",
       "  <tbody>\n",
       "    <tr>\n",
       "      <th>count</th>\n",
       "      <td>25.000000</td>\n",
       "      <td>25.000000</td>\n",
       "    </tr>\n",
       "    <tr>\n",
       "      <th>mean</th>\n",
       "      <td>5.012000</td>\n",
       "      <td>51.480000</td>\n",
       "    </tr>\n",
       "    <tr>\n",
       "      <th>std</th>\n",
       "      <td>2.525094</td>\n",
       "      <td>25.286887</td>\n",
       "    </tr>\n",
       "    <tr>\n",
       "      <th>min</th>\n",
       "      <td>1.100000</td>\n",
       "      <td>17.000000</td>\n",
       "    </tr>\n",
       "    <tr>\n",
       "      <th>25%</th>\n",
       "      <td>2.700000</td>\n",
       "      <td>30.000000</td>\n",
       "    </tr>\n",
       "    <tr>\n",
       "      <th>50%</th>\n",
       "      <td>4.800000</td>\n",
       "      <td>47.000000</td>\n",
       "    </tr>\n",
       "    <tr>\n",
       "      <th>75%</th>\n",
       "      <td>7.400000</td>\n",
       "      <td>75.000000</td>\n",
       "    </tr>\n",
       "    <tr>\n",
       "      <th>max</th>\n",
       "      <td>9.200000</td>\n",
       "      <td>95.000000</td>\n",
       "    </tr>\n",
       "  </tbody>\n",
       "</table>\n",
       "</div>"
      ],
      "text/plain": [
       "           Hours     Scores\n",
       "count  25.000000  25.000000\n",
       "mean    5.012000  51.480000\n",
       "std     2.525094  25.286887\n",
       "min     1.100000  17.000000\n",
       "25%     2.700000  30.000000\n",
       "50%     4.800000  47.000000\n",
       "75%     7.400000  75.000000\n",
       "max     9.200000  95.000000"
      ]
     },
     "execution_count": 3,
     "metadata": {},
     "output_type": "execute_result"
    }
   ],
   "source": [
    "df.describe()"
   ]
  },
  {
   "cell_type": "code",
   "execution_count": 4,
   "id": "e553b40c",
   "metadata": {},
   "outputs": [
    {
     "name": "stdout",
     "output_type": "stream",
     "text": [
      "<class 'pandas.core.frame.DataFrame'>\n",
      "RangeIndex: 25 entries, 0 to 24\n",
      "Data columns (total 2 columns):\n",
      " #   Column  Non-Null Count  Dtype  \n",
      "---  ------  --------------  -----  \n",
      " 0   Hours   25 non-null     float64\n",
      " 1   Scores  25 non-null     int64  \n",
      "dtypes: float64(1), int64(1)\n",
      "memory usage: 528.0 bytes\n"
     ]
    }
   ],
   "source": [
    "df.info()"
   ]
  },
  {
   "cell_type": "markdown",
   "id": "f69c272e",
   "metadata": {},
   "source": [
    "# Checking Outliers"
   ]
  },
  {
   "cell_type": "code",
   "execution_count": 5,
   "id": "6383587b",
   "metadata": {},
   "outputs": [
    {
     "data": {
      "text/plain": [
       "['Scores']"
      ]
     },
     "execution_count": 5,
     "metadata": {},
     "output_type": "execute_result"
    }
   ],
   "source": [
    "data_col_numeric = df.select_dtypes(include=['int64']).columns.tolist()\n",
    "data_col_numeric"
   ]
  },
  {
   "cell_type": "code",
   "execution_count": 6,
   "id": "b220b201",
   "metadata": {},
   "outputs": [
    {
     "data": {
      "text/plain": [
       "['Hours']"
      ]
     },
     "execution_count": 6,
     "metadata": {},
     "output_type": "execute_result"
    }
   ],
   "source": [
    "data_col_float = df.select_dtypes(include=['float64']).columns.tolist()\n",
    "data_col_float"
   ]
  },
  {
   "cell_type": "markdown",
   "id": "cdfeec90",
   "metadata": {},
   "source": [
    "## Create Boxplot Function to check the outliers"
   ]
  },
  {
   "cell_type": "code",
   "execution_count": 7,
   "id": "4ee38739",
   "metadata": {},
   "outputs": [],
   "source": [
    "def boxplot_numerical(numerical):\n",
    "    plt.figure(figsize = (10, 6))\n",
    "    sns.boxplot(df[numerical]).set_title(numerical)\n",
    "    median = df[numerical].median()\n",
    "    FirstQuartile = df[numerical].quantile(0.25)\n",
    "    ThirdQuartile = df[numerical].quantile(0.75)\n",
    "    Interquartile = scipy.stats.iqr(df[numerical])\n",
    "    UpperFence = ThirdQuartile + (1.5*Interquartile)\n",
    "    LowerFence = FirstQuartile - (1.5*Interquartile)\n",
    "\n",
    "    print ('==================================')\n",
    "    print ('Statistical Data Summary')\n",
    "    print ('==================================')\n",
    "    print ('Median : ', median)\n",
    "    print ('1st Quartile : ', FirstQuartile)\n",
    "    print ('3rd Quartile : ', ThirdQuartile)\n",
    "    print ('IQR : ', Interquartile)\n",
    "    print ('Upper Fence : ', UpperFence)\n",
    "    print ('Lower Fence : ', LowerFence)\n",
    "    print ('==================================')\n",
    "\n",
    "    UpperOutliers = []\n",
    "    LowerOutliers = []\n",
    "    StatusUpperOutliers = False\n",
    "    StatusLowerOutliers = False\n",
    "    for x in df[numerical]:\n",
    "      if (x > UpperFence):\n",
    "        UpperOutliers.append(x)\n",
    "        StatusUpperOutliers = True\n",
    "      elif (x < LowerFence):\n",
    "        LowerOutliers.append(x)\n",
    "        StatusLowerOutliers = True\n",
    "    print ()\n",
    "    print ('==================================')\n",
    "    print ('Outliers Data Detection')\n",
    "    print ('==================================')\n",
    "    print ('Upper Outliers Data : ', sorted(UpperOutliers, reverse=False))\n",
    "    print ('Upper Outliers Status : ', StatusUpperOutliers)\n",
    "    print ('Lower Outliers Data : ', sorted(LowerOutliers, reverse=False))\n",
    "    print ('Lower Outliers Status : ', StatusLowerOutliers)\n",
    "\n",
    "    plt.figure(figsize = (10, 6))\n",
    "    sns.boxplot(df[numerical], showfliers = False).set_title(numerical + ' No Outliers')"
   ]
  },
  {
   "cell_type": "code",
   "execution_count": 8,
   "id": "d302d054",
   "metadata": {},
   "outputs": [
    {
     "name": "stdout",
     "output_type": "stream",
     "text": [
      "==================================\n",
      "Statistical Data Summary\n",
      "==================================\n",
      "Median :  47.0\n",
      "1st Quartile :  30.0\n",
      "3rd Quartile :  75.0\n",
      "IQR :  45.0\n",
      "Upper Fence :  142.5\n",
      "Lower Fence :  -37.5\n",
      "==================================\n",
      "\n",
      "==================================\n",
      "Outliers Data Detection\n",
      "==================================\n",
      "Upper Outliers Data :  []\n",
      "Upper Outliers Status :  False\n",
      "Lower Outliers Data :  []\n",
      "Lower Outliers Status :  False\n"
     ]
    },
    {
     "name": "stderr",
     "output_type": "stream",
     "text": [
      "C:\\anaconda3\\lib\\site-packages\\seaborn\\_decorators.py:36: FutureWarning: Pass the following variable as a keyword arg: x. From version 0.12, the only valid positional argument will be `data`, and passing other arguments without an explicit keyword will result in an error or misinterpretation.\n",
      "  warnings.warn(\n",
      "C:\\anaconda3\\lib\\site-packages\\seaborn\\_decorators.py:36: FutureWarning: Pass the following variable as a keyword arg: x. From version 0.12, the only valid positional argument will be `data`, and passing other arguments without an explicit keyword will result in an error or misinterpretation.\n",
      "  warnings.warn(\n"
     ]
    },
    {
     "data": {
      "image/png": "[encoded data removed]",
      "text/plain": [
       "<Figure size 720x432 with 1 Axes>"
      ]
     },
     "metadata": {
      "needs_background": "light"
     },
     "output_type": "display_data"
    },
    {
     "data": {
      "image/png": "[encoded data removed]",
      "text/plain": [
       "<Figure size 720x432 with 1 Axes>"
      ]
     },
     "metadata": {
      "needs_background": "light"
     },
     "output_type": "display_data"
    }
   ],
   "source": [
    "boxplot_numerical(data_col_numeric[0])"
   ]
  },
  {
   "cell_type": "code",
   "execution_count": 9,
   "id": "435b6e82",
   "metadata": {},
   "outputs": [
    {
     "name": "stdout",
     "output_type": "stream",
     "text": [
      "==================================\n",
      "Statistical Data Summary\n",
      "==================================\n",
      "Median :  4.8\n",
      "1st Quartile :  2.7\n",
      "3rd Quartile :  7.4\n",
      "IQR :  4.7\n",
      "Upper Fence :  14.450000000000001\n",
      "Lower Fence :  -4.3500000000000005\n",
      "==================================\n",
      "\n",
      "==================================\n",
      "Outliers Data Detection\n",
      "==================================\n",
      "Upper Outliers Data :  []\n",
      "Upper Outliers Status :  False\n",
      "Lower Outliers Data :  []\n",
      "Lower Outliers Status :  False\n"
     ]
    },
    {
     "name": "stderr",
     "output_type": "stream",
     "text": [
      "C:\\anaconda3\\lib\\site-packages\\seaborn\\_decorators.py:36: FutureWarning: Pass the following variable as a keyword arg: x. From version 0.12, the only valid positional argument will be `data`, and passing other arguments without an explicit keyword will result in an error or misinterpretation.\n",
      "  warnings.warn(\n",
      "C:\\anaconda3\\lib\\site-packages\\seaborn\\_decorators.py:36: FutureWarning: Pass the following variable as a keyword arg: x. From version 0.12, the only valid positional argument will be `data`, and passing other arguments without an explicit keyword will result in an error or misinterpretation.\n",
      "  warnings.warn(\n"
     ]
    },
    {
     "data": {
      "image/png": "[encoded data removed]",
      "text/plain": [
       "<Figure size 720x432 with 1 Axes>"
      ]
     },
     "metadata": {
      "needs_background": "light"
     },
     "output_type": "display_data"
    },
    {
     "data": {
      "image/png": "[encoded data removed]",
      "text/plain": [
       "<Figure size 720x432 with 1 Axes>"
      ]
     },
     "metadata": {
      "needs_background": "light"
     },
     "output_type": "display_data"
    }
   ],
   "source": [
    "boxplot_numerical(data_col_float[0])"
   ]
  },
  {
   "cell_type": "markdown",
   "id": "7d1da6dc",
   "metadata": {},
   "source": [
    "**There is no Outliers in Hours and Scores data column**"
   ]
  },
  {
   "cell_type": "markdown",
   "id": "338a2a42",
   "metadata": {},
   "source": [
    "# Check the Linearity\n",
    "\n",
    "Check if the dependent features have a linear relationship with the target (Scores)"
   ]
  },
  {
   "cell_type": "code",
   "execution_count": 10,
   "id": "bba09840",
   "metadata": {},
   "outputs": [
    {
     "data": {
      "text/plain": [
       "Hours     0.976191\n",
       "Scores    1.000000\n",
       "Name: Scores, dtype: float64"
      ]
     },
     "execution_count": 10,
     "metadata": {},
     "output_type": "execute_result"
    }
   ],
   "source": [
    "df.corr().Scores"
   ]
  },
  {
   "cell_type": "markdown",
   "id": "45e0deb8",
   "metadata": {},
   "source": [
    "**Hours feature in the dataset has highly positive correlated linearity to the target (Scores)**"
   ]
  },
  {
   "cell_type": "markdown",
   "id": "cd6242fa",
   "metadata": {},
   "source": [
    "# Normality\n",
    "\n",
    "It is a prerequisite of Linear Regression that the features be normal in nature (Gaussian Distribution).\n",
    "\n",
    "Ideal normality is very scarce in real data but we can do if the skewness and kurtosis of the data is within the range of -1 to +1"
   ]
  },
  {
   "cell_type": "code",
   "execution_count": 11,
   "id": "4890726b",
   "metadata": {},
   "outputs": [],
   "source": [
    "from scipy import stats"
   ]
  },
  {
   "cell_type": "code",
   "execution_count": 12,
   "id": "07f2c20d",
   "metadata": {},
   "outputs": [
    {
     "name": "stdout",
     "output_type": "stream",
     "text": [
      "Skewness of Hours is  0.1787220638918746\n",
      "Kurtosis of Hours is  -1.2868356406445227\n"
     ]
    }
   ],
   "source": [
    "print('Skewness of Hours is ', stats.skew(df.Hours))\n",
    "print('Kurtosis of Hours is ', stats.kurtosis(df.Hours))"
   ]
  },
  {
   "cell_type": "markdown",
   "id": "87b2cecf",
   "metadata": {},
   "source": [
    "# Plotting the distribution of Scores"
   ]
  },
  {
   "cell_type": "code",
   "execution_count": 13,
   "id": "4c2069d2",
   "metadata": {},
   "outputs": [
    {
     "data": {
      "image/png": "[encoded data removed]",
      "text/plain": [
       "<Figure size 432x288 with 1 Axes>"
      ]
     },
     "metadata": {
      "needs_background": "light"
     },
     "output_type": "display_data"
    }
   ],
   "source": [
    "df.plot(x='Hours', y='Scores', style='o')\n",
    "plt.title('Distribution of Scores on Hours of Study')\n",
    "plt.xlabel('Hours Study')\n",
    "plt.ylabel('Scores')\n",
    "plt.show()"
   ]
  },
  {
   "cell_type": "markdown",
   "id": "711b723a",
   "metadata": {},
   "source": [
    "# Separate out PREDICTOR/FEATURE and TARGET/LABEL"
   ]
  },
  {
   "cell_type": "code",
   "execution_count": 14,
   "id": "a37b25cd",
   "metadata": {},
   "outputs": [],
   "source": [
    "X = df.iloc[:, :-1]\n",
    "y = df.iloc[:, 1]"
   ]
  },
  {
   "cell_type": "markdown",
   "id": "c16f27be",
   "metadata": {},
   "source": [
    "# Train Test Split"
   ]
  },
  {
   "cell_type": "code",
   "execution_count": 15,
   "id": "e155d299",
   "metadata": {},
   "outputs": [],
   "source": [
    "from sklearn.model_selection import train_test_split\n",
    "\n",
    "X_train, X_test, y_train, y_test = train_test_split(X, y, test_size=0.2, random_state=10)"
   ]
  },
  {
   "cell_type": "code",
   "execution_count": 16,
   "id": "3d2307fa",
   "metadata": {},
   "outputs": [
    {
     "data": {
      "text/plain": [
       "(20, 1)"
      ]
     },
     "execution_count": 16,
     "metadata": {},
     "output_type": "execute_result"
    }
   ],
   "source": [
    "X_train.shape"
   ]
  },
  {
   "cell_type": "code",
   "execution_count": 17,
   "id": "fe61961a",
   "metadata": {},
   "outputs": [
    {
     "data": {
      "text/plain": [
       "(5, 1)"
      ]
     },
     "execution_count": 17,
     "metadata": {},
     "output_type": "execute_result"
    }
   ],
   "source": [
    "X_test.shape"
   ]
  },
  {
   "cell_type": "markdown",
   "id": "98d2ce76",
   "metadata": {},
   "source": [
    "# Train Model"
   ]
  },
  {
   "cell_type": "code",
   "execution_count": 18,
   "id": "fb644463",
   "metadata": {},
   "outputs": [
    {
     "data": {
      "text/plain": [
       "LinearRegression()"
      ]
     },
     "execution_count": 18,
     "metadata": {},
     "output_type": "execute_result"
    }
   ],
   "source": [
    "from sklearn.linear_model import LinearRegression\n",
    "\n",
    "model = LinearRegression()\n",
    "\n",
    "model.fit(X_train, y_train)"
   ]
  },
  {
   "cell_type": "markdown",
   "id": "adae581b",
   "metadata": {},
   "source": [
    "## Plot the Regression Line"
   ]
  },
  {
   "cell_type": "code",
   "execution_count": 19,
   "id": "e5f6580a",
   "metadata": {},
   "outputs": [
    {
     "data": {
      "image/png": "[encoded data removed]",
      "text/plain": [
       "<Figure size 432x288 with 1 Axes>"
      ]
     },
     "metadata": {
      "needs_background": "light"
     },
     "output_type": "display_data"
    }
   ],
   "source": [
    "# Plotting the regression line\n",
    "line = model.coef_*X+model.intercept_\n",
    "\n",
    "# Plotting for the test data\n",
    "plt.scatter(X, y)\n",
    "plt.plot(X, line);\n",
    "plt.show()"
   ]
  },
  {
   "cell_type": "markdown",
   "id": "e51c20ff",
   "metadata": {},
   "source": [
    "# Predict the Data"
   ]
  },
  {
   "cell_type": "code",
   "execution_count": 20,
   "id": "4a60d5f2",
   "metadata": {},
   "outputs": [],
   "source": [
    "y_pred = model.predict(X_test)"
   ]
  },
  {
   "cell_type": "markdown",
   "id": "56fb66c5",
   "metadata": {},
   "source": [
    "## Comparison of Actual vs Predicted Data"
   ]
  },
  {
   "cell_type": "code",
   "execution_count": 21,
   "id": "03f39dbc",
   "metadata": {},
   "outputs": [
    {
     "data": {
      "text/html": [
       "<div>\n",
       "<style scoped>\n",
       "    .dataframe tbody tr th:only-of-type {\n",
       "        vertical-align: middle;\n",
       "    }\n",
       "\n",
       "    .dataframe tbody tr th {\n",
       "        vertical-align: top;\n",
       "    }\n",
       "\n",
       "    .dataframe thead th {\n",
       "        text-align: right;\n",
       "    }\n",
       "</style>\n",
       "<table border=\"1\" class=\"dataframe\">\n",
       "  <thead>\n",
       "    <tr style=\"text-align: right;\">\n",
       "      <th></th>\n",
       "      <th>Actual</th>\n",
       "      <th>Predicted</th>\n",
       "    </tr>\n",
       "  </thead>\n",
       "  <tbody>\n",
       "    <tr>\n",
       "      <th>5</th>\n",
       "      <td>20</td>\n",
       "      <td>17.371423</td>\n",
       "    </tr>\n",
       "    <tr>\n",
       "      <th>1</th>\n",
       "      <td>47</td>\n",
       "      <td>52.702923</td>\n",
       "    </tr>\n",
       "    <tr>\n",
       "      <th>13</th>\n",
       "      <td>42</td>\n",
       "      <td>35.037173</td>\n",
       "    </tr>\n",
       "    <tr>\n",
       "      <th>2</th>\n",
       "      <td>27</td>\n",
       "      <td>34.055743</td>\n",
       "    </tr>\n",
       "    <tr>\n",
       "      <th>12</th>\n",
       "      <td>41</td>\n",
       "      <td>46.814340</td>\n",
       "    </tr>\n",
       "  </tbody>\n",
       "</table>\n",
       "</div>"
      ],
      "text/plain": [
       "    Actual  Predicted\n",
       "5       20  17.371423\n",
       "1       47  52.702923\n",
       "13      42  35.037173\n",
       "2       27  34.055743\n",
       "12      41  46.814340"
      ]
     },
     "execution_count": 21,
     "metadata": {},
     "output_type": "execute_result"
    }
   ],
   "source": [
    "dfCompared = pd.DataFrame({'Actual':y_test, 'Predicted':y_pred})\n",
    "dfCompared"
   ]
  },
  {
   "cell_type": "markdown",
   "id": "276e807d",
   "metadata": {},
   "source": [
    "## Predict if a Student has 9.25 Hours of Study "
   ]
  },
  {
   "cell_type": "code",
   "execution_count": 22,
   "id": "cc7fb92d",
   "metadata": {},
   "outputs": [
    {
     "name": "stdout",
     "output_type": "stream",
     "text": [
      "No of Hours = [9.25]\n",
      "Predicted Score = 93.43229053722452\n"
     ]
    }
   ],
   "source": [
    "hours = 9.25\n",
    "hours = np.array(hours).reshape(-1,1)\n",
    "StudentPredictedScore = model.predict(hours)\n",
    "\n",
    "print('No of Hours = {}'.format(hours[0]))\n",
    "print('Predicted Score = {}'.format(StudentPredictedScore[0]))"
   ]
  },
  {
   "cell_type": "markdown",
   "id": "702eb0aa",
   "metadata": {},
   "source": [
    "# Evaluate the Model"
   ]
  },
  {
   "cell_type": "code",
   "execution_count": 23,
   "id": "9faee8d3",
   "metadata": {},
   "outputs": [
    {
     "name": "stdout",
     "output_type": "stream",
     "text": [
      "Mean Absolute Error:  5.632881746692995\n",
      "R2 Score:  0.6683995499740194\n"
     ]
    }
   ],
   "source": [
    "from sklearn import metrics\n",
    "from sklearn.metrics import r2_score\n",
    "\n",
    "print('Mean Absolute Error: ', metrics.mean_absolute_error(y_test, y_pred))\n",
    "print('R2 Score: ', r2_score(y_test, y_pred))"
   ]
  }
 ],
 "metadata": {
  "kernelspec": {
   "display_name": "Python 3",
   "language": "python",
   "name": "python3"
  },
  "language_info": {
   "codemirror_mode": {
    "name": "ipython",
    "version": 3
   },
   "file_extension": ".py",
   "mimetype": "text/x-python",
   "name": "python",
   "nbconvert_exporter": "python",
   "pygments_lexer": "ipython3",
   "version": "3.8.8"
  },
  "toc": {
   "base_numbering": 1,
   "nav_menu": {},
   "number_sections": true,
   "sideBar": true,
   "skip_h1_title": false,
   "title_cell": "Table of Contents",
   "title_sidebar": "Contents",
   "toc_cell": false,
   "toc_position": {},
   "toc_section_display": true,
   "toc_window_display": false
  }
 },
 "nbformat": 4,
 "nbformat_minor": 5
}
